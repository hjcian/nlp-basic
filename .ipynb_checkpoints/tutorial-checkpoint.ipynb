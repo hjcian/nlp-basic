{
 "cells": [
  {
   "cell_type": "markdown",
   "metadata": {},
   "source": [
    "## Before you begin\n",
    "- please make sure you have installed following package by `pip`:\n",
    "\n",
    "> ```pip install keras tensorflow pandas scikit-learn matplotlib```\n",
    "\n",
    "- And also download [Sentiment Labelled Sentences Data Set](https://archive.ics.uci.edu/ml/machine-learning-databases/00331/) and [GloVe](http://nlp.stanford.edu/data/glove.6B.zip) pretrained word embeddings (822 MB).\n",
    "\n",
    "> Sentiment Labelled Sentences Data Set 為zip檔，完解壓縮並放到與此notebook file同個路徑底下。\n",
    "\n",
    "> pretrained word embeddings 中有許多維度的 embeddings，本篇教學僅使用到 `glove.6B.50d.txt`，故只要解壓縮該檔即可。"
   ]
  },
  {
   "cell_type": "code",
   "execution_count": 1,
   "metadata": {},
   "outputs": [
    {
     "name": "stdout",
     "output_type": "stream",
     "text": [
      "amazon_cells_labelled.txt\n",
      "glove.6B.50d.txt\n",
      "imdb_labelled.txt\n",
      "yelp_labelled.txt\n"
     ]
    }
   ],
   "source": [
    "!ls *txt"
   ]
  },
  {
   "cell_type": "markdown",
   "metadata": {},
   "source": [
    "# Introduction\n",
    "original article: https://realpython.com/python-keras-text-classification/#choosing-a-data-set\n",
    "\n",
    "此篇教學將帶你運用(deep) neural networks 做一遍所謂的「情感分析(sentiment analysis)」分類問題。\n",
    "\n",
    "此篇教學使用的數據集來自UCI Machine Learning Repository，該數據包括來自IMDb，Amazon和Yelp的標記評論。\n",
    "對於負面情緒給予0的標記；正面的情緒給予1的標記。\n",
    "\n",
    "那我們就開始吧！"
   ]
  },
  {
   "cell_type": "markdown",
   "metadata": {},
   "source": [
    "# Choosing a Data Set\n",
    "\n",
    "首先我們將預載的資料集用`pandas`讀進來，然後串接起來看一下都長甚麼樣子："
   ]
  },
  {
   "cell_type": "code",
   "execution_count": 2,
   "metadata": {},
   "outputs": [
    {
     "name": "stdout",
     "output_type": "stream",
     "text": [
      "sentence    Wow... Loved this place.\n",
      "label                              1\n",
      "source                          yelp\n",
      "Name: 0, dtype: object\n"
     ]
    }
   ],
   "source": [
    "import pandas as pd\n",
    "\n",
    "filepath_dict = {'yelp':   './yelp_labelled.txt',\n",
    "                 'amazon': './amazon_cells_labelled.txt',\n",
    "                 'imdb':   './imdb_labelled.txt'}\n",
    "\n",
    "df_list = []\n",
    "for source, filepath in filepath_dict.items():\n",
    "    df = pd.read_csv(filepath, names=['sentence', 'label'], sep='\\t')\n",
    "    df['source'] = source  # Add another column filled with the source name\n",
    "    df_list.append(df)\n",
    "\n",
    "df = pd.concat(df_list)\n",
    "print(df.iloc[0])"
   ]
  },
  {
   "cell_type": "code",
   "execution_count": 3,
   "metadata": {
    "scrolled": false
   },
   "outputs": [
    {
     "data": {
      "text/html": [
       "<div>\n",
       "<style scoped>\n",
       "    .dataframe tbody tr th:only-of-type {\n",
       "        vertical-align: middle;\n",
       "    }\n",
       "\n",
       "    .dataframe tbody tr th {\n",
       "        vertical-align: top;\n",
       "    }\n",
       "\n",
       "    .dataframe thead th {\n",
       "        text-align: right;\n",
       "    }\n",
       "</style>\n",
       "<table border=\"1\" class=\"dataframe\">\n",
       "  <thead>\n",
       "    <tr style=\"text-align: right;\">\n",
       "      <th></th>\n",
       "      <th>sentence</th>\n",
       "      <th>label</th>\n",
       "      <th>source</th>\n",
       "    </tr>\n",
       "  </thead>\n",
       "  <tbody>\n",
       "    <tr>\n",
       "      <th>0</th>\n",
       "      <td>Wow... Loved this place.</td>\n",
       "      <td>1</td>\n",
       "      <td>yelp</td>\n",
       "    </tr>\n",
       "    <tr>\n",
       "      <th>1</th>\n",
       "      <td>Crust is not good.</td>\n",
       "      <td>0</td>\n",
       "      <td>yelp</td>\n",
       "    </tr>\n",
       "    <tr>\n",
       "      <th>2</th>\n",
       "      <td>Not tasty and the texture was just nasty.</td>\n",
       "      <td>0</td>\n",
       "      <td>yelp</td>\n",
       "    </tr>\n",
       "    <tr>\n",
       "      <th>3</th>\n",
       "      <td>Stopped by during the late May bank holiday of...</td>\n",
       "      <td>1</td>\n",
       "      <td>yelp</td>\n",
       "    </tr>\n",
       "    <tr>\n",
       "      <th>4</th>\n",
       "      <td>The selection on the menu was great and so wer...</td>\n",
       "      <td>1</td>\n",
       "      <td>yelp</td>\n",
       "    </tr>\n",
       "    <tr>\n",
       "      <th>5</th>\n",
       "      <td>Now I am getting angry and I want my damn pho.</td>\n",
       "      <td>0</td>\n",
       "      <td>yelp</td>\n",
       "    </tr>\n",
       "    <tr>\n",
       "      <th>6</th>\n",
       "      <td>Honeslty it didn't taste THAT fresh.)</td>\n",
       "      <td>0</td>\n",
       "      <td>yelp</td>\n",
       "    </tr>\n",
       "    <tr>\n",
       "      <th>7</th>\n",
       "      <td>The potatoes were like rubber and you could te...</td>\n",
       "      <td>0</td>\n",
       "      <td>yelp</td>\n",
       "    </tr>\n",
       "    <tr>\n",
       "      <th>8</th>\n",
       "      <td>The fries were great too.</td>\n",
       "      <td>1</td>\n",
       "      <td>yelp</td>\n",
       "    </tr>\n",
       "    <tr>\n",
       "      <th>9</th>\n",
       "      <td>A great touch.</td>\n",
       "      <td>1</td>\n",
       "      <td>yelp</td>\n",
       "    </tr>\n",
       "    <tr>\n",
       "      <th>10</th>\n",
       "      <td>Service was very prompt.</td>\n",
       "      <td>1</td>\n",
       "      <td>yelp</td>\n",
       "    </tr>\n",
       "    <tr>\n",
       "      <th>11</th>\n",
       "      <td>Would not go back.</td>\n",
       "      <td>0</td>\n",
       "      <td>yelp</td>\n",
       "    </tr>\n",
       "    <tr>\n",
       "      <th>12</th>\n",
       "      <td>The cashier had no care what so ever on what I...</td>\n",
       "      <td>0</td>\n",
       "      <td>yelp</td>\n",
       "    </tr>\n",
       "    <tr>\n",
       "      <th>13</th>\n",
       "      <td>I tried the Cape Cod ravoli, chicken,with cran...</td>\n",
       "      <td>1</td>\n",
       "      <td>yelp</td>\n",
       "    </tr>\n",
       "    <tr>\n",
       "      <th>14</th>\n",
       "      <td>I was disgusted because I was pretty sure that...</td>\n",
       "      <td>0</td>\n",
       "      <td>yelp</td>\n",
       "    </tr>\n",
       "    <tr>\n",
       "      <th>15</th>\n",
       "      <td>I was shocked because no signs indicate cash o...</td>\n",
       "      <td>0</td>\n",
       "      <td>yelp</td>\n",
       "    </tr>\n",
       "    <tr>\n",
       "      <th>16</th>\n",
       "      <td>Highly recommended.</td>\n",
       "      <td>1</td>\n",
       "      <td>yelp</td>\n",
       "    </tr>\n",
       "    <tr>\n",
       "      <th>17</th>\n",
       "      <td>Waitress was a little slow in service.</td>\n",
       "      <td>0</td>\n",
       "      <td>yelp</td>\n",
       "    </tr>\n",
       "    <tr>\n",
       "      <th>18</th>\n",
       "      <td>This place is not worth your time, let alone V...</td>\n",
       "      <td>0</td>\n",
       "      <td>yelp</td>\n",
       "    </tr>\n",
       "    <tr>\n",
       "      <th>19</th>\n",
       "      <td>did not like at all.</td>\n",
       "      <td>0</td>\n",
       "      <td>yelp</td>\n",
       "    </tr>\n",
       "    <tr>\n",
       "      <th>20</th>\n",
       "      <td>The Burrittos Blah!</td>\n",
       "      <td>0</td>\n",
       "      <td>yelp</td>\n",
       "    </tr>\n",
       "    <tr>\n",
       "      <th>21</th>\n",
       "      <td>The food, amazing.</td>\n",
       "      <td>1</td>\n",
       "      <td>yelp</td>\n",
       "    </tr>\n",
       "    <tr>\n",
       "      <th>22</th>\n",
       "      <td>Service is also cute.</td>\n",
       "      <td>1</td>\n",
       "      <td>yelp</td>\n",
       "    </tr>\n",
       "    <tr>\n",
       "      <th>23</th>\n",
       "      <td>I could care less... The interior is just beau...</td>\n",
       "      <td>1</td>\n",
       "      <td>yelp</td>\n",
       "    </tr>\n",
       "    <tr>\n",
       "      <th>24</th>\n",
       "      <td>So they performed.</td>\n",
       "      <td>1</td>\n",
       "      <td>yelp</td>\n",
       "    </tr>\n",
       "    <tr>\n",
       "      <th>25</th>\n",
       "      <td>That's right....the red velvet cake.....ohhh t...</td>\n",
       "      <td>1</td>\n",
       "      <td>yelp</td>\n",
       "    </tr>\n",
       "    <tr>\n",
       "      <th>26</th>\n",
       "      <td>- They never brought a salad we asked for.</td>\n",
       "      <td>0</td>\n",
       "      <td>yelp</td>\n",
       "    </tr>\n",
       "    <tr>\n",
       "      <th>27</th>\n",
       "      <td>This hole in the wall has great Mexican street...</td>\n",
       "      <td>1</td>\n",
       "      <td>yelp</td>\n",
       "    </tr>\n",
       "    <tr>\n",
       "      <th>28</th>\n",
       "      <td>Took an hour to get our food only 4 tables in ...</td>\n",
       "      <td>0</td>\n",
       "      <td>yelp</td>\n",
       "    </tr>\n",
       "    <tr>\n",
       "      <th>29</th>\n",
       "      <td>The worst was the salmon sashimi.</td>\n",
       "      <td>0</td>\n",
       "      <td>yelp</td>\n",
       "    </tr>\n",
       "    <tr>\n",
       "      <th>...</th>\n",
       "      <td>...</td>\n",
       "      <td>...</td>\n",
       "      <td>...</td>\n",
       "    </tr>\n",
       "    <tr>\n",
       "      <th>718</th>\n",
       "      <td>Enough can not be said of the remarkable anima...</td>\n",
       "      <td>1</td>\n",
       "      <td>imdb</td>\n",
       "    </tr>\n",
       "    <tr>\n",
       "      <th>719</th>\n",
       "      <td>The art style has the appearance of crayon/pen...</td>\n",
       "      <td>1</td>\n",
       "      <td>imdb</td>\n",
       "    </tr>\n",
       "    <tr>\n",
       "      <th>720</th>\n",
       "      <td>If you act in such a film, you should be glad ...</td>\n",
       "      <td>0</td>\n",
       "      <td>imdb</td>\n",
       "    </tr>\n",
       "    <tr>\n",
       "      <th>721</th>\n",
       "      <td>This one wants to surf on the small wave of sp...</td>\n",
       "      <td>0</td>\n",
       "      <td>imdb</td>\n",
       "    </tr>\n",
       "    <tr>\n",
       "      <th>722</th>\n",
       "      <td>If you haven't choked in your own vomit by the...</td>\n",
       "      <td>0</td>\n",
       "      <td>imdb</td>\n",
       "    </tr>\n",
       "    <tr>\n",
       "      <th>723</th>\n",
       "      <td>Still, it makes up for all of this with a supe...</td>\n",
       "      <td>1</td>\n",
       "      <td>imdb</td>\n",
       "    </tr>\n",
       "    <tr>\n",
       "      <th>724</th>\n",
       "      <td>Just consider the excellent story, solid actin...</td>\n",
       "      <td>1</td>\n",
       "      <td>imdb</td>\n",
       "    </tr>\n",
       "    <tr>\n",
       "      <th>725</th>\n",
       "      <td>Instead, we got a bore fest about a whiny, spo...</td>\n",
       "      <td>0</td>\n",
       "      <td>imdb</td>\n",
       "    </tr>\n",
       "    <tr>\n",
       "      <th>726</th>\n",
       "      <td>Then I watched it again two Sundays ago (March...</td>\n",
       "      <td>1</td>\n",
       "      <td>imdb</td>\n",
       "    </tr>\n",
       "    <tr>\n",
       "      <th>727</th>\n",
       "      <td>It is a very well acted and done TV Movie.</td>\n",
       "      <td>1</td>\n",
       "      <td>imdb</td>\n",
       "    </tr>\n",
       "    <tr>\n",
       "      <th>728</th>\n",
       "      <td>Judith Light is one of my favorite actresses a...</td>\n",
       "      <td>1</td>\n",
       "      <td>imdb</td>\n",
       "    </tr>\n",
       "    <tr>\n",
       "      <th>729</th>\n",
       "      <td>I keep watching it over and over.</td>\n",
       "      <td>1</td>\n",
       "      <td>imdb</td>\n",
       "    </tr>\n",
       "    <tr>\n",
       "      <th>730</th>\n",
       "      <td>It's a sad movie, but very good.</td>\n",
       "      <td>1</td>\n",
       "      <td>imdb</td>\n",
       "    </tr>\n",
       "    <tr>\n",
       "      <th>731</th>\n",
       "      <td>If you have not seen this movie, I definitely ...</td>\n",
       "      <td>1</td>\n",
       "      <td>imdb</td>\n",
       "    </tr>\n",
       "    <tr>\n",
       "      <th>732</th>\n",
       "      <td>She is as lovely as usual, this cutie!</td>\n",
       "      <td>1</td>\n",
       "      <td>imdb</td>\n",
       "    </tr>\n",
       "    <tr>\n",
       "      <th>733</th>\n",
       "      <td>Still it's quite interesting and entertaining ...</td>\n",
       "      <td>1</td>\n",
       "      <td>imdb</td>\n",
       "    </tr>\n",
       "    <tr>\n",
       "      <th>734</th>\n",
       "      <td>;) Recommend with confidence!</td>\n",
       "      <td>1</td>\n",
       "      <td>imdb</td>\n",
       "    </tr>\n",
       "    <tr>\n",
       "      <th>735</th>\n",
       "      <td>This movie is well-balanced with comedy and dr...</td>\n",
       "      <td>1</td>\n",
       "      <td>imdb</td>\n",
       "    </tr>\n",
       "    <tr>\n",
       "      <th>736</th>\n",
       "      <td>It was a riot to see Hugo Weaving play a sex-o...</td>\n",
       "      <td>1</td>\n",
       "      <td>imdb</td>\n",
       "    </tr>\n",
       "    <tr>\n",
       "      <th>737</th>\n",
       "      <td>:) Anyway, the plot flowed smoothly and the ma...</td>\n",
       "      <td>1</td>\n",
       "      <td>imdb</td>\n",
       "    </tr>\n",
       "    <tr>\n",
       "      <th>738</th>\n",
       "      <td>The opening sequence of this gem is a classic,...</td>\n",
       "      <td>1</td>\n",
       "      <td>imdb</td>\n",
       "    </tr>\n",
       "    <tr>\n",
       "      <th>739</th>\n",
       "      <td>Fans of the genre will be in heaven.</td>\n",
       "      <td>1</td>\n",
       "      <td>imdb</td>\n",
       "    </tr>\n",
       "    <tr>\n",
       "      <th>740</th>\n",
       "      <td>Lange had become a great actress.</td>\n",
       "      <td>1</td>\n",
       "      <td>imdb</td>\n",
       "    </tr>\n",
       "    <tr>\n",
       "      <th>741</th>\n",
       "      <td>It looked like a wonderful story.</td>\n",
       "      <td>1</td>\n",
       "      <td>imdb</td>\n",
       "    </tr>\n",
       "    <tr>\n",
       "      <th>742</th>\n",
       "      <td>I never walked out of a movie faster.</td>\n",
       "      <td>0</td>\n",
       "      <td>imdb</td>\n",
       "    </tr>\n",
       "    <tr>\n",
       "      <th>743</th>\n",
       "      <td>I just got bored watching Jessice Lange take h...</td>\n",
       "      <td>0</td>\n",
       "      <td>imdb</td>\n",
       "    </tr>\n",
       "    <tr>\n",
       "      <th>744</th>\n",
       "      <td>Unfortunately, any virtue in this film's produ...</td>\n",
       "      <td>0</td>\n",
       "      <td>imdb</td>\n",
       "    </tr>\n",
       "    <tr>\n",
       "      <th>745</th>\n",
       "      <td>In a word, it is embarrassing.</td>\n",
       "      <td>0</td>\n",
       "      <td>imdb</td>\n",
       "    </tr>\n",
       "    <tr>\n",
       "      <th>746</th>\n",
       "      <td>Exceptionally bad!</td>\n",
       "      <td>0</td>\n",
       "      <td>imdb</td>\n",
       "    </tr>\n",
       "    <tr>\n",
       "      <th>747</th>\n",
       "      <td>All in all its an insult to one's intelligence...</td>\n",
       "      <td>0</td>\n",
       "      <td>imdb</td>\n",
       "    </tr>\n",
       "  </tbody>\n",
       "</table>\n",
       "<p>2748 rows × 3 columns</p>\n",
       "</div>"
      ],
      "text/plain": [
       "                                              sentence  label source\n",
       "0                             Wow... Loved this place.      1   yelp\n",
       "1                                   Crust is not good.      0   yelp\n",
       "2            Not tasty and the texture was just nasty.      0   yelp\n",
       "3    Stopped by during the late May bank holiday of...      1   yelp\n",
       "4    The selection on the menu was great and so wer...      1   yelp\n",
       "5       Now I am getting angry and I want my damn pho.      0   yelp\n",
       "6                Honeslty it didn't taste THAT fresh.)      0   yelp\n",
       "7    The potatoes were like rubber and you could te...      0   yelp\n",
       "8                            The fries were great too.      1   yelp\n",
       "9                                       A great touch.      1   yelp\n",
       "10                            Service was very prompt.      1   yelp\n",
       "11                                  Would not go back.      0   yelp\n",
       "12   The cashier had no care what so ever on what I...      0   yelp\n",
       "13   I tried the Cape Cod ravoli, chicken,with cran...      1   yelp\n",
       "14   I was disgusted because I was pretty sure that...      0   yelp\n",
       "15   I was shocked because no signs indicate cash o...      0   yelp\n",
       "16                                 Highly recommended.      1   yelp\n",
       "17              Waitress was a little slow in service.      0   yelp\n",
       "18   This place is not worth your time, let alone V...      0   yelp\n",
       "19                                did not like at all.      0   yelp\n",
       "20                                 The Burrittos Blah!      0   yelp\n",
       "21                                  The food, amazing.      1   yelp\n",
       "22                               Service is also cute.      1   yelp\n",
       "23   I could care less... The interior is just beau...      1   yelp\n",
       "24                                  So they performed.      1   yelp\n",
       "25   That's right....the red velvet cake.....ohhh t...      1   yelp\n",
       "26          - They never brought a salad we asked for.      0   yelp\n",
       "27   This hole in the wall has great Mexican street...      1   yelp\n",
       "28   Took an hour to get our food only 4 tables in ...      0   yelp\n",
       "29                   The worst was the salmon sashimi.      0   yelp\n",
       "..                                                 ...    ...    ...\n",
       "718  Enough can not be said of the remarkable anima...      1   imdb\n",
       "719  The art style has the appearance of crayon/pen...      1   imdb\n",
       "720  If you act in such a film, you should be glad ...      0   imdb\n",
       "721  This one wants to surf on the small wave of sp...      0   imdb\n",
       "722  If you haven't choked in your own vomit by the...      0   imdb\n",
       "723  Still, it makes up for all of this with a supe...      1   imdb\n",
       "724  Just consider the excellent story, solid actin...      1   imdb\n",
       "725  Instead, we got a bore fest about a whiny, spo...      0   imdb\n",
       "726  Then I watched it again two Sundays ago (March...      1   imdb\n",
       "727       It is a very well acted and done TV Movie.        1   imdb\n",
       "728  Judith Light is one of my favorite actresses a...      1   imdb\n",
       "729                I keep watching it over and over.        1   imdb\n",
       "730                 It's a sad movie, but very good.        1   imdb\n",
       "731  If you have not seen this movie, I definitely ...      1   imdb\n",
       "732           She is as lovely as usual, this cutie!        1   imdb\n",
       "733  Still it's quite interesting and entertaining ...      1   imdb\n",
       "734                    ;) Recommend with confidence!        1   imdb\n",
       "735  This movie is well-balanced with comedy and dr...      1   imdb\n",
       "736  It was a riot to see Hugo Weaving play a sex-o...      1   imdb\n",
       "737  :) Anyway, the plot flowed smoothly and the ma...      1   imdb\n",
       "738  The opening sequence of this gem is a classic,...      1   imdb\n",
       "739             Fans of the genre will be in heaven.        1   imdb\n",
       "740                Lange had become a great actress.        1   imdb\n",
       "741                It looked like a wonderful story.        1   imdb\n",
       "742            I never walked out of a movie faster.        0   imdb\n",
       "743  I just got bored watching Jessice Lange take h...      0   imdb\n",
       "744  Unfortunately, any virtue in this film's produ...      0   imdb\n",
       "745                   In a word, it is embarrassing.        0   imdb\n",
       "746                               Exceptionally bad!        0   imdb\n",
       "747  All in all its an insult to one's intelligence...      0   imdb\n",
       "\n",
       "[2748 rows x 3 columns]"
      ]
     },
     "execution_count": 3,
     "metadata": {},
     "output_type": "execute_result"
    }
   ],
   "source": [
    "df"
   ]
  },
  {
   "cell_type": "markdown",
   "metadata": {},
   "source": [
    "可以觀察到，總共有2748筆評論，每筆評論有一段 comment(即`sentence`)，並且有著0(負評)或1(正評)的標記。\n",
    "\n",
    "我們的目的是預測一段評論句是「正評」還是「負評」。\n",
    "\n",
    "直覺的作法是計算出每一個字出現在好/壞評論中的次數，並且從中找到關聯性。\n",
    "\n",
    "若要這麼做首先我們得創建一個詞彙表(vocabulary)，此詞彙表則可以用我們蒐集起來的所有句子(corpus)來建立。\n",
    "\n",
    "當我們有了詞彙表之後，就可以將一個句子轉換成特徵向量(feature vector)，此特徵向量的長度將會與詞彙表相同，並且計算一句評論中的每個單詞(word)出現的次數，填入特徵向量中對應的字詞的元素位置。\n",
    "\n",
    "以下使用`CountVectorizer`示範此概念："
   ]
  },
  {
   "cell_type": "code",
   "execution_count": 4,
   "metadata": {},
   "outputs": [
    {
     "data": {
      "text/plain": [
       "{'John': 0, 'likes': 5, 'ice': 4, 'cream': 2, 'hates': 3, 'chocolate': 1}"
      ]
     },
     "execution_count": 4,
     "metadata": {},
     "output_type": "execute_result"
    }
   ],
   "source": [
    "from sklearn.feature_extraction.text import CountVectorizer\n",
    "\n",
    "sentences = [\n",
    "    'John likes ice cream', \n",
    "    'John hates chocolate'\n",
    "]\n",
    "vectorizer = CountVectorizer(min_df=0, lowercase=False)\n",
    "    # 如果某個詞的文件頻率小於`min_df`，則這個詞不會被當作關鍵詞\n",
    "vectorizer.fit(sentences)\n",
    "vectorizer.vocabulary_"
   ]
  },
  {
   "cell_type": "code",
   "execution_count": 5,
   "metadata": {
    "scrolled": true
   },
   "outputs": [
    {
     "data": {
      "text/plain": [
       "array([[1, 0, 1, 0, 1, 1],\n",
       "       [1, 1, 0, 1, 0, 0]], dtype=int64)"
      ]
     },
     "execution_count": 5,
     "metadata": {},
     "output_type": "execute_result"
    }
   ],
   "source": [
    "vectorizer.transform(sentences).toarray()"
   ]
  },
  {
   "cell_type": "markdown",
   "metadata": {},
   "source": [
    "# Defining a Baseline Model"
   ]
  },
  {
   "cell_type": "markdown",
   "metadata": {},
   "source": [
    "data set 有三種，拿 yelp 的部分來做初步實驗。\n",
    "\n",
    "首先將 yelp  的 sentence 及 label 取出，並切出 25% 做為 testing set，其餘的是 training set。"
   ]
  },
  {
   "cell_type": "code",
   "execution_count": 6,
   "metadata": {
    "scrolled": true
   },
   "outputs": [
    {
     "data": {
      "text/plain": [
       "((750,), (250,))"
      ]
     },
     "execution_count": 6,
     "metadata": {},
     "output_type": "execute_result"
    }
   ],
   "source": [
    "from sklearn.model_selection import train_test_split\n",
    "\n",
    "df_yelp = df[df['source'] == 'yelp']\n",
    "\n",
    "sentences = df_yelp['sentence'].values\n",
    "y = df_yelp['label'].values\n",
    "\n",
    "sentences_train, sentences_test, y_train, y_test = train_test_split(\n",
    "    sentences, y, test_size=0.25, random_state=1000)\n",
    "\n",
    "sentences_train.shape, sentences_test.shape"
   ]
  },
  {
   "cell_type": "markdown",
   "metadata": {},
   "source": [
    "再來我們用`vectorizer.fit`以及 training set - `sentences_train` 建立詞彙表，再利用 vectorizer 將 `sentence_train/test` 轉成 feature vector - `X_train/test`。\n",
    "\n",
    "可以觀察到，yelp 的 training set 有 750 個樣本；每一個樣本的 feature vector 長度為 1714。意味著我們用training set做出來的詞彙表總共有1747個詞彙。\n",
    "\n",
    "`CountVectorizer` 幫我們做的事又可稱作 **Tokenization**，預設會去除標點符號與特殊字元，若有其他 tokenization 的需求，可以進一步去 [NLTK library](https://www.nltk.org/) 找找。"
   ]
  },
  {
   "cell_type": "code",
   "execution_count": 7,
   "metadata": {},
   "outputs": [
    {
     "data": {
      "text/plain": [
       "<750x1714 sparse matrix of type '<class 'numpy.int64'>'\n",
       "\twith 7368 stored elements in Compressed Sparse Row format>"
      ]
     },
     "execution_count": 7,
     "metadata": {},
     "output_type": "execute_result"
    }
   ],
   "source": [
    "from sklearn.feature_extraction.text import CountVectorizer\n",
    "\n",
    "vectorizer = CountVectorizer()\n",
    "vectorizer.fit(sentences_train)\n",
    "\n",
    "X_train = vectorizer.transform(sentences_train)\n",
    "X_test  = vectorizer.transform(sentences_test)\n",
    "X_train"
   ]
  },
  {
   "cell_type": "markdown",
   "metadata": {},
   "source": [
    "特徵向量都準備好了之後，我們使用 Logistic Regression 快速地訓練一個分類模型來當作我們後續的比較用的baseline model："
   ]
  },
  {
   "cell_type": "code",
   "execution_count": 8,
   "metadata": {},
   "outputs": [
    {
     "name": "stdout",
     "output_type": "stream",
     "text": [
      "Accuracy: 0.796\n"
     ]
    },
    {
     "name": "stderr",
     "output_type": "stream",
     "text": [
      "C:\\Users\\a2437\\Anaconda3\\envs\\NLP_Practice\\lib\\site-packages\\sklearn\\linear_model\\logistic.py:433: FutureWarning: Default solver will be changed to 'lbfgs' in 0.22. Specify a solver to silence this warning.\n",
      "  FutureWarning)\n"
     ]
    }
   ],
   "source": [
    "from sklearn.linear_model import LogisticRegression\n",
    "\n",
    "classifier = LogisticRegression()\n",
    "classifier.fit(X_train, y_train)\n",
    "score = classifier.score(X_test, y_test)\n",
    "\n",
    "print(\"Accuracy:\", score)"
   ]
  },
  {
   "cell_type": "markdown",
   "metadata": {},
   "source": [
    "接著我們來瞧一瞧，每一個 data set 都各自訓練一個 baseline model"
   ]
  },
  {
   "cell_type": "code",
   "execution_count": 9,
   "metadata": {
    "scrolled": true
   },
   "outputs": [
    {
     "name": "stdout",
     "output_type": "stream",
     "text": [
      "Accuracy for yelp data: 0.7960 (750, 1714)\n",
      "Accuracy for amazon data: 0.7960 (750, 1546)\n",
      "Accuracy for imdb data: 0.7487 (561, 2505)\n"
     ]
    }
   ],
   "source": [
    "for source in df['source'].unique():\n",
    "    df_source = df[df['source'] == source]\n",
    "    sentences = df_source['sentence'].values\n",
    "    y = df_source['label'].values\n",
    "\n",
    "    sentences_train, sentences_test, y_train, y_test = train_test_split(\n",
    "        sentences, y, test_size=0.25, random_state=1000)\n",
    "\n",
    "    vectorizer = CountVectorizer()\n",
    "    vectorizer.fit(sentences_train)\n",
    "    X_train = vectorizer.transform(sentences_train)\n",
    "    X_test  = vectorizer.transform(sentences_test)\n",
    "    \n",
    "    classifier = LogisticRegression()\n",
    "    classifier.fit(X_train, y_train)\n",
    "    score = classifier.score(X_test, y_test)\n",
    "    print('Accuracy for {} data: {:.4f} {}'.format(source, score, X_train.shape))\n"
   ]
  },
  {
   "cell_type": "markdown",
   "metadata": {},
   "source": [
    "# A Primer on (Deep) Neural Networks\n",
    "***(原文中文字敘述的部分與程式碼不一致，已依照原文文字的描述調整成正確的程式碼)***"
   ]
  },
  {
   "cell_type": "markdown",
   "metadata": {},
   "source": [
    "接著讓我們來稍微使用一下神經網絡的架構來處理此問題。\n",
    "\n",
    "再拿 yelp 的資料集來當範例，重新從 `df` 中取出來...直到轉換成 `X_train` 及 `X_test`："
   ]
  },
  {
   "cell_type": "code",
   "execution_count": 10,
   "metadata": {},
   "outputs": [],
   "source": [
    "df_source = df[df['source'] == 'yelp']\n",
    "sentences = df_source['sentence'].values\n",
    "y = df_source['label'].values\n",
    "\n",
    "sentences_train, sentences_test, y_train, y_test = train_test_split(\n",
    "    sentences, y, test_size=0.25, random_state=1000)\n",
    "\n",
    "vectorizer = CountVectorizer()\n",
    "vectorizer.fit(sentences_train)\n",
    "X_train = vectorizer.transform(sentences_train)\n",
    "X_test  = vectorizer.transform(sentences_test)"
   ]
  },
  {
   "cell_type": "markdown",
   "metadata": {},
   "source": [
    "開始使用keras，在此建立一個僅含有 **1個hidden layer(5個nodes)** 的神經網絡。\n",
    "\n",
    "\n",
    "hidden layer 的激發函數(activation)選擇 'relu'；output layer 由於是二元分類故選擇'sigmoid'作為輸出。\n",
    "\n",
    "> Dense layer指的就是一般的全連接層(fully connected layer)，或可稱 [Affine layer](https://deepai.org/machine-learning-glossary-and-terms/affine-layer)\n",
    "\n",
    "須注意要明確指定 input layer 的 size 跟我們每一筆 sample 的 feature vector 一致。除此之外的 layer 在使用 keras 時會自動對齊input-output sizes。\n",
    "\n",
    "另外，**loss fuction**選擇'binary_crossentropy'；**optimizer**使用'adam'；評估方法(metrics)則選擇'accuracy'。\n",
    "\n",
    "\n",
    "`compile` 完看一下 `summary`："
   ]
  },
  {
   "cell_type": "code",
   "execution_count": 11,
   "metadata": {
    "scrolled": false
   },
   "outputs": [
    {
     "name": "stderr",
     "output_type": "stream",
     "text": [
      "Using TensorFlow backend.\n"
     ]
    },
    {
     "name": "stdout",
     "output_type": "stream",
     "text": [
      "Input size: 1714\n",
      "WARNING:tensorflow:From C:\\Users\\a2437\\Anaconda3\\envs\\NLP_Practice\\lib\\site-packages\\tensorflow\\python\\framework\\op_def_library.py:263: colocate_with (from tensorflow.python.framework.ops) is deprecated and will be removed in a future version.\n",
      "Instructions for updating:\n",
      "Colocations handled automatically by placer.\n",
      "_________________________________________________________________\n",
      "Layer (type)                 Output Shape              Param #   \n",
      "=================================================================\n",
      "dense_1 (Dense)              (None, 5)                 8575      \n",
      "_________________________________________________________________\n",
      "dense_2 (Dense)              (None, 1)                 6         \n",
      "=================================================================\n",
      "Total params: 8,581\n",
      "Trainable params: 8,581\n",
      "Non-trainable params: 0\n",
      "_________________________________________________________________\n"
     ]
    }
   ],
   "source": [
    "from keras.models import Sequential\n",
    "from keras import layers\n",
    "\n",
    "input_dim = X_train.shape[1]\n",
    "print(\"Input size: {}\".format(input_dim))\n",
    "model = Sequential()\n",
    "model.add(layers.Dense(5, input_dim=input_dim, activation='relu'))\n",
    "model.add(layers.Dense(1, activation='sigmoid'))\n",
    "model.compile(loss='binary_crossentropy',\n",
    "             optimizer='adam',\n",
    "             metrics=['accuracy'])\n",
    "model.summary()"
   ]
  },
  {
   "cell_type": "markdown",
   "metadata": {},
   "source": [
    "稍微解釋一下此summary的資訊：\n",
    "- 拿 yelp 的樣本轉換出來的字典僅包含 1714 個詞彙，故每一個句子轉換成 feature vector 時的長度也僅會有 1714\n",
    "- 我們可以簡單驗證一下 parameters 的數量：\n",
    "    - **input layer** 有1714維\n",
    "    - **hidden layer** 僅一層，包含5個 nodes，故總共會有1714 * 5 = **8570個** weights，而每個 node 會再包含一個 bias ，故 8570 + 5 = **8575個** parameters，與第一層Dense參數資訊一致\n",
    "    - **output layer** 由於是做二元分類問題，故只需要使用1個node並搭配 sigmoid function 做輸出即可。由於前一層有5個 node，故有5個 weight需要訓練，再加上1個bias，故總共再增加**6個** parameters，與第二層Dense參數資訊一致\n",
    "    - 故總共有 8575 + 6 = **8581個**參數需要訓練，與model.summary()輸出的Total params資訊一致\n",
    "    \n",
    "了解了之後，開始訓練 model："
   ]
  },
  {
   "cell_type": "code",
   "execution_count": 12,
   "metadata": {
    "scrolled": false
   },
   "outputs": [
    {
     "name": "stdout",
     "output_type": "stream",
     "text": [
      "WARNING:tensorflow:From C:\\Users\\a2437\\Anaconda3\\envs\\NLP_Practice\\lib\\site-packages\\tensorflow\\python\\ops\\math_ops.py:3066: to_int32 (from tensorflow.python.ops.math_ops) is deprecated and will be removed in a future version.\n",
      "Instructions for updating:\n",
      "Use tf.cast instead.\n"
     ]
    }
   ],
   "source": [
    "history = model.fit(X_train, y_train,\n",
    "                    epochs=100,\n",
    "                    verbose=False,\n",
    "                    validation_data=(X_test, y_test),\n",
    "                    batch_size=10)\n"
   ]
  },
  {
   "cell_type": "markdown",
   "metadata": {},
   "source": [
    "訓練完了，看一下最終Model對於資料集的預測力如何...驚嚇！ overfitting了！"
   ]
  },
  {
   "cell_type": "code",
   "execution_count": 13,
   "metadata": {
    "scrolled": true
   },
   "outputs": [
    {
     "name": "stdout",
     "output_type": "stream",
     "text": [
      "Training Accuracy: 1.0000\n",
      "Testing Accuracy:  0.7880\n"
     ]
    }
   ],
   "source": [
    "loss, accuracy = model.evaluate(X_train, y_train, verbose=False)\n",
    "print(\"Training Accuracy: {:.4f}\".format(accuracy))\n",
    "loss, accuracy = model.evaluate(X_test, y_test, verbose=False)\n",
    "print(\"Testing Accuracy:  {:.4f}\".format(accuracy))"
   ]
  },
  {
   "cell_type": "markdown",
   "metadata": {},
   "source": [
    "用matplotlib將history畫出來，可觀察到經典的overfitting示意圖"
   ]
  },
  {
   "cell_type": "code",
   "execution_count": 15,
   "metadata": {
    "scrolled": false
   },
   "outputs": [
    {
     "data": {
      "image/png": "[encoded data removed]",
      "text/plain": [
       "<Figure size 864x360 with 2 Axes>"
      ]
     },
     "metadata": {},
     "output_type": "display_data"
    }
   ],
   "source": [
    "import matplotlib.pyplot as plt\n",
    "plt.style.use('ggplot')\n",
    "\n",
    "def plot_history(history):\n",
    "    acc = history.history['acc']\n",
    "    val_acc = history.history['val_acc']\n",
    "    loss = history.history['loss']\n",
    "    val_loss = history.history['val_loss']\n",
    "    x = range(1, len(acc) + 1)\n",
    "\n",
    "    plt.figure(figsize=(12, 5))\n",
    "    plt.subplot(1, 2, 1)\n",
    "    plt.plot(x, acc, 'b', label='Training acc')\n",
    "    plt.plot(x, val_acc, 'r', label='Validation acc')\n",
    "    plt.xlabel(\"epochs\")\n",
    "    plt.title('Training and validation accuracy')\n",
    "    plt.legend()\n",
    "    plt.subplot(1, 2, 2)\n",
    "    plt.plot(x, loss, 'b', label='Training loss')\n",
    "    plt.plot(x, val_loss, 'r', label='Validation loss')\n",
    "    plt.xlabel(\"epochs\")\n",
    "    plt.title('Training and validation loss')\n",
    "    plt.legend()\n",
    "\n",
    "plot_history(history)\n"
   ]
  },
  {
   "cell_type": "markdown",
   "metadata": {},
   "source": [
    "以上只是簡單的複習一下基本機器學習做法，以下開始介紹 Word Embedding。"
   ]
  },
  {
   "cell_type": "markdown",
   "metadata": {},
   "source": [
    "# What Is a Word Embedding?\n",
    "- Their aim is to map **semantic meaning** into a **geometric space**. This geometric space is then called the **embedding space**.\n",
    "- 如何取得字詞的embedding space？\n",
    "    1. 訓練你的NN model時順便訓練出來\n",
    "    2. 拿別人預先訓練好的來用\n",
    "- 向量化一個字詞(vectorize text)，在 tokenization 時有以下不同的做法：\n",
    "    1. 每個 word 用 vector 表達 (最常用的方法)\n",
    "    2. 每個 character 用 vector 表達\n",
    "    3. 每個 n-gram 用 vector 表達\n",
    "- 而將 word 表達成一個 vector，又有兩種常用的做法：\n",
    "    1. one-hot encoding\n",
    "    2. word embeddings\n"
   ]
  },
  {
   "cell_type": "markdown",
   "metadata": {},
   "source": [
    "## One-Hot Encoding\n",
    "\n",
    "將 label 的 index 建起來，每一個 label 都有對應的 index number。接著將 label 轉換成 vector，該 label 原本對應到哪個 index number 則在該向量元素上有值1、其餘為0"
   ]
  },
  {
   "cell_type": "code",
   "execution_count": 15,
   "metadata": {
    "scrolled": true
   },
   "outputs": [
    {
     "name": "stdout",
     "output_type": "stream",
     "text": [
      "['London', 'Berlin', 'Berlin', 'New York', 'London']\n",
      "[1 0 0 2 1]\n"
     ]
    },
    {
     "name": "stderr",
     "output_type": "stream",
     "text": [
      "C:\\Users\\a2437\\Anaconda3\\envs\\NLP_Practice\\lib\\site-packages\\sklearn\\preprocessing\\_encoders.py:368: FutureWarning: The handling of integer data will change in version 0.22. Currently, the categories are determined based on the range [0, max(values)], while in the future they will be determined based on the unique values.\n",
      "If you want the future behaviour and silence this warning, you can specify \"categories='auto'\".\n",
      "In case you used a LabelEncoder before this OneHotEncoder to convert the categories to integers, then you can now use the OneHotEncoder directly.\n",
      "  warnings.warn(msg, FutureWarning)\n"
     ]
    },
    {
     "data": {
      "text/plain": [
       "array([[0., 1., 0.],\n",
       "       [1., 0., 0.],\n",
       "       [1., 0., 0.],\n",
       "       [0., 0., 1.],\n",
       "       [0., 1., 0.]])"
      ]
     },
     "execution_count": 15,
     "metadata": {},
     "output_type": "execute_result"
    }
   ],
   "source": [
    "cities = ['London', 'Berlin', 'Berlin', 'New York', 'London']\n",
    "print(cities)\n",
    "\n",
    "from sklearn.preprocessing import LabelEncoder\n",
    "\n",
    "encoder = LabelEncoder()\n",
    "city_labels = encoder.fit_transform(cities)\n",
    "\n",
    "print(city_labels)\n",
    "\n",
    "from sklearn.preprocessing import OneHotEncoder\n",
    "encoder = OneHotEncoder(sparse=False)\n",
    "city_labels = city_labels.reshape((5, 1))\n",
    "encoder.fit_transform(city_labels)"
   ]
  },
  {
   "cell_type": "markdown",
   "metadata": {},
   "source": [
    "## Word Embeddings\n",
    "\n",
    "接著我們來試著自己 train 每一個 word 的 embedding space。\n",
    "\n",
    "首先運用 keras 提供的 `Tokenizer.fit_on_texts` 來將詞彙表建起來 ，接著用 `Tokenizer.texts_to_sequences` 將 training set 與 testing set 用該 tokenizer 轉換成 word-value-mapping vector。\n",
    "\n",
    "***Note*** *：與前述的 `CountVectorizer` 不同， `CountVectorizer` 直接將每個 sentence 轉換成皆等長的feature vector，`Tokenizer` 則是將 sentence 中的每一個 word 轉換成其對應的 index number，故每一句話的長度不會一樣*"
   ]
  },
  {
   "cell_type": "code",
   "execution_count": 16,
   "metadata": {
    "scrolled": true
   },
   "outputs": [
    {
     "name": "stdout",
     "output_type": "stream",
     "text": [
      "The food was barely lukewarm, so it must have been sitting waiting for the server to bring it out to us.\n",
      "[1, 10, 3, 282, 739, 25, 8, 208, 30, 64, 459, 230, 13, 1, 124, 5, 231, 8, 58, 5, 67]\n"
     ]
    }
   ],
   "source": [
    "from keras.preprocessing.text import Tokenizer\n",
    "\n",
    "tokenizer = Tokenizer(num_words=5000)\n",
    "tokenizer.fit_on_texts(sentences_train)\n",
    "\n",
    "X_train = tokenizer.texts_to_sequences(sentences_train)\n",
    "X_test = tokenizer.texts_to_sequences(sentences_test)\n",
    "\n",
    "print(sentences_train[0])\n",
    "print(X_train[0])\n",
    "# print(vocab_size) # 1747\n",
    "# print(tokenizer.word_index) # {'the': 1, 'and': 2, 'was': 3, 'i': 4, 'to': 5, ...}\n"
   ]
  },
  {
   "cell_type": "markdown",
   "metadata": {},
   "source": [
    "`tokenizer.word_index` 只是一個簡單的python 'dict'，儲存著 {word: index} 的對應關係"
   ]
  },
  {
   "cell_type": "code",
   "execution_count": 17,
   "metadata": {},
   "outputs": [
    {
     "name": "stdout",
     "output_type": "stream",
     "text": [
      "the: 1\n",
      "all: 43\n",
      "happy: 320\n",
      "sad: 450\n"
     ]
    },
    {
     "data": {
      "text/plain": [
       "dict"
      ]
     },
     "execution_count": 17,
     "metadata": {},
     "output_type": "execute_result"
    }
   ],
   "source": [
    "for word in ['the', 'all', 'happy', 'sad']:\n",
    "    print('{}: {}'.format(word, tokenizer.word_index[word]))\n",
    "type(tokenizer.word_index)"
   ]
  },
  {
   "cell_type": "markdown",
   "metadata": {},
   "source": [
    "接著為了訓練模型，需要將每一個 sentence vector 長度變成一樣，此動作稱作 **填補(Padding)**"
   ]
  },
  {
   "cell_type": "code",
   "execution_count": 18,
   "metadata": {
    "scrolled": true
   },
   "outputs": [
    {
     "name": "stdout",
     "output_type": "stream",
     "text": [
      "[  1  10   3 282 739  25   8 208  30  64 459 230  13   1 124   5 231   8\n",
      "  58   5  67   0   0   0   0   0   0   0   0   0   0   0   0   0   0   0\n",
      "   0   0   0   0   0   0   0   0   0   0   0   0   0   0   0   0   0   0\n",
      "   0   0   0   0   0   0   0   0   0   0   0   0   0   0   0   0   0   0\n",
      "   0   0   0   0   0   0   0   0   0   0   0   0   0   0   0   0   0   0\n",
      "   0   0   0   0   0   0   0   0   0   0]\n"
     ]
    }
   ],
   "source": [
    "from keras.preprocessing.sequence import pad_sequences\n",
    "\n",
    "maxlen = 100 # 每一句話最多採計多少個字，後續會作為 input layer size\n",
    "\n",
    "X_train = pad_sequences(X_train, padding='post', maxlen=maxlen)\n",
    "X_test = pad_sequences(X_test, padding='post', maxlen=maxlen)\n",
    "\n",
    "print(X_train[0, :])"
   ]
  },
  {
   "cell_type": "markdown",
   "metadata": {},
   "source": [
    "## Keras Embedding Layer\n",
    "\n",
    "接著要來用 keras 透過訓練一個 NN 的同時來訓練出我們的 embedding space 了。\n",
    "\n",
    "通過 Embedding layer 的資料會是 2D vector，因為每一個字原本只有一個值代表它，現在變成一個 vector 代表它。故如果你的下一層是一個 Dense layer，那麼你可以使用`Flatten()`來將 2D 的輸出變成 1D。\n",
    "\n",
    "- **input_dim**: the size of the vocabulary\n",
    "- **output_dim**: the size of the dense vector\n",
    "- **input_length**: the length of the sequence"
   ]
  },
  {
   "cell_type": "code",
   "execution_count": 19,
   "metadata": {
    "scrolled": true
   },
   "outputs": [
    {
     "name": "stdout",
     "output_type": "stream",
     "text": [
      "_________________________________________________________________\n",
      "Layer (type)                 Output Shape              Param #   \n",
      "=================================================================\n",
      "embedding_1 (Embedding)      (None, 100, 50)           87350     \n",
      "_________________________________________________________________\n",
      "flatten_1 (Flatten)          (None, 5000)              0         \n",
      "_________________________________________________________________\n",
      "dense_3 (Dense)              (None, 10)                50010     \n",
      "_________________________________________________________________\n",
      "dense_4 (Dense)              (None, 1)                 11        \n",
      "=================================================================\n",
      "Total params: 137,371\n",
      "Trainable params: 137,371\n",
      "Non-trainable params: 0\n",
      "_________________________________________________________________\n"
     ]
    }
   ],
   "source": [
    "from keras.models import Sequential\n",
    "from keras import layers\n",
    "\n",
    "vocab_size = len(tokenizer.word_index) + 1  # Adding 1 because of reserved 0 index\n",
    "embedding_dim = 50 # 每一個 word 的 embedding space 的維度\n",
    "\n",
    "model = Sequential()\n",
    "model.add(layers.Embedding(input_dim=vocab_size, \n",
    "                           output_dim=embedding_dim, \n",
    "                           input_length=maxlen))\n",
    "model.add(layers.Flatten())\n",
    "model.add(layers.Dense(10, activation='relu'))\n",
    "model.add(layers.Dense(1, activation='sigmoid'))\n",
    "model.compile(optimizer='adam',\n",
    "              loss='binary_crossentropy',\n",
    "              metrics=['accuracy'])\n",
    "model.summary()\n"
   ]
  },
  {
   "cell_type": "code",
   "execution_count": 20,
   "metadata": {
    "scrolled": false
   },
   "outputs": [
    {
     "name": "stdout",
     "output_type": "stream",
     "text": [
      "Training Accuracy: 1.0000\n",
      "Testing Accuracy:  0.7080\n"
     ]
    },
    {
     "data": {
      "image/png": "[encoded data removed]",
      "text/plain": [
       "<Figure size 864x360 with 2 Axes>"
      ]
     },
     "metadata": {
      "needs_background": "light"
     },
     "output_type": "display_data"
    }
   ],
   "source": [
    "history = model.fit(X_train, y_train,\n",
    "                    epochs=20,\n",
    "                    verbose=False,\n",
    "                    validation_data=(X_test, y_test),\n",
    "                    batch_size=10)\n",
    "loss, accuracy = model.evaluate(X_train, y_train, verbose=False)\n",
    "print(\"Training Accuracy: {:.4f}\".format(accuracy))\n",
    "loss, accuracy = model.evaluate(X_test, y_test, verbose=False)\n",
    "print(\"Testing Accuracy:  {:.4f}\".format(accuracy))\n",
    "plot_history(history)"
   ]
  },
  {
   "cell_type": "markdown",
   "metadata": {},
   "source": [
    "可以看到直接用`flatten` layer 將 embeddings 的輸出資訊(5000維)全拿來用並沒有讓訓練結果比較好。\n",
    "> 可以理解成將所有字詞的 embeddings 資訊都拿來 train，資訊太多太雜，需要找方法「過濾雜訊」\n",
    "\n",
    "而較常與 embedding layer 搭配的 layers 為 **MaxPooling1D/AveragePooling1D** 或是 **GlobalMaxPooling1D/GlobalAveragePooling1D** layer，在 NLP 的問題處理上常常使用 **global max pooling** 的方法。\n",
    "> `MaxPooling1D` 與 `GlobalMaxPooling1D` 的差別在於 `MaxPooling1D` 要指定 kernel size ，取得 kernel size 內的最大值；`GlobalMaxPooling1D` 則是直接取得整個 input 的最大值\n",
    "\n",
    "> 另外，影像處理較常使用的是 max pooling\n",
    "\n",
    "故以下重新使用 `GlobalMaxPool1D()` 作為連接 embedding layer 與 dense layer 之間的 pooling layer："
   ]
  },
  {
   "cell_type": "code",
   "execution_count": 21,
   "metadata": {
    "scrolled": true
   },
   "outputs": [
    {
     "name": "stdout",
     "output_type": "stream",
     "text": [
      "_________________________________________________________________\n",
      "Layer (type)                 Output Shape              Param #   \n",
      "=================================================================\n",
      "embedding_2 (Embedding)      (None, 100, 50)           87350     \n",
      "_________________________________________________________________\n",
      "global_max_pooling1d_1 (Glob (None, 50)                0         \n",
      "_________________________________________________________________\n",
      "dense_5 (Dense)              (None, 10)                510       \n",
      "_________________________________________________________________\n",
      "dense_6 (Dense)              (None, 1)                 11        \n",
      "=================================================================\n",
      "Total params: 87,871\n",
      "Trainable params: 87,871\n",
      "Non-trainable params: 0\n",
      "_________________________________________________________________\n"
     ]
    }
   ],
   "source": [
    "from keras.models import Sequential\n",
    "from keras import layers\n",
    "\n",
    "embedding_dim = 50\n",
    "\n",
    "model = Sequential()\n",
    "model.add(layers.Embedding(input_dim=vocab_size, \n",
    "                           output_dim=embedding_dim, \n",
    "                           input_length=maxlen))\n",
    "model.add(layers.GlobalMaxPool1D())\n",
    "model.add(layers.Dense(10, activation='relu'))\n",
    "model.add(layers.Dense(1, activation='sigmoid'))\n",
    "model.compile(optimizer='adam',\n",
    "              loss='binary_crossentropy',\n",
    "              metrics=['accuracy'])\n",
    "model.summary()\n"
   ]
  },
  {
   "cell_type": "markdown",
   "metadata": {},
   "source": [
    "再用同樣的流程 train 一次，就可以得到較好的結果："
   ]
  },
  {
   "cell_type": "code",
   "execution_count": 22,
   "metadata": {
    "scrolled": false
   },
   "outputs": [
    {
     "name": "stdout",
     "output_type": "stream",
     "text": [
      "WARNING:tensorflow:From C:\\Users\\a2437\\Anaconda3\\envs\\NLP_Practice\\lib\\site-packages\\tensorflow\\python\\ops\\math_grad.py:102: div (from tensorflow.python.ops.math_ops) is deprecated and will be removed in a future version.\n",
      "Instructions for updating:\n",
      "Deprecated in favor of operator or tf.math.divide.\n",
      "Training Accuracy: 1.0000\n",
      "Testing Accuracy:  0.8040\n"
     ]
    },
    {
     "data": {
      "image/png": "[encoded data removed]",
      "text/plain": [
       "<Figure size 864x360 with 2 Axes>"
      ]
     },
     "metadata": {
      "needs_background": "light"
     },
     "output_type": "display_data"
    }
   ],
   "source": [
    "history = model.fit(X_train, y_train,\n",
    "                    epochs=50,\n",
    "                    verbose=False,\n",
    "                    validation_data=(X_test, y_test),\n",
    "                    batch_size=10)\n",
    "loss, accuracy = model.evaluate(X_train, y_train, verbose=False)\n",
    "print(\"Training Accuracy: {:.4f}\".format(accuracy))\n",
    "loss, accuracy = model.evaluate(X_test, y_test, verbose=False)\n",
    "print(\"Testing Accuracy:  {:.4f}\".format(accuracy))\n",
    "plot_history(history)"
   ]
  },
  {
   "cell_type": "markdown",
   "metadata": {},
   "source": [
    "## Using Pretrained Word Embeddings\n",
    "\n",
    "再來我們要試著拿別人 pretrain 好的 embeddings 來進一步改善我們的 model。\n",
    "\n",
    "目前最熱門的 pretrained embeddings 有二：\n",
    "1. [**Word2Vec**](https://papers.nips.cc/paper/5021-distributed-representations-of-words-and-phrases-and-their-compositionality.pdf) developed by Google\n",
    "2. [**GloVe**](https://nlp.stanford.edu/projects/glove/) (Global Vectors for Word Representation) developed by the Stanford NLP Group\n",
    "\n",
    "此篇範例以**GloVe**為例，Go ahead and download the 6B (trained on 6 billion words) word embeddings from [here](http://nlp.stanford.edu/data/glove.6B.zip) (822 MB).\n",
    "> You can find other word embeddings also on the main [GloVe](https://nlp.stanford.edu/projects/glove/) page. You can find the pretrained Word2Vec embeddings by Google [here](https://code.google.com/archive/p/word2vec/). **If you want to train your own word embeddings**, you can do so efficiently with the [gensim](https://radimrehurek.com/gensim/index.html) Python package which uses Word2Vec for calculation. More details on how to do this [here](https://radimrehurek.com/gensim/models/word2vec.html)."
   ]
  },
  {
   "cell_type": "markdown",
   "metadata": {},
   "source": [
    "又我們不需要該 pretrained word embeddings 中所有的內容，為了效率考量可以只將在我們資料集中有的字詞抽取出來就好，故用以下 function 來將有用到的部分取出："
   ]
  },
  {
   "cell_type": "code",
   "execution_count": 23,
   "metadata": {
    "code_folding": []
   },
   "outputs": [],
   "source": [
    "import numpy as np\n",
    "\n",
    "def create_embedding_matrix(filepath, word_index, embedding_dim):\n",
    "    vocab_size = len(word_index) + 1  # Adding again 1 because of reserved 0 index\n",
    "    embedding_matrix = np.zeros((vocab_size, embedding_dim))\n",
    "\n",
    "    with open(filepath, 'r', encoding='utf-8') as f:\n",
    "        for line in f:\n",
    "            word, *vector = line.split()\n",
    "            if word in word_index:\n",
    "                idx = word_index[word] \n",
    "                embedding_matrix[idx] = np.array(\n",
    "                    vector, dtype=np.float32)[:embedding_dim]\n",
    "\n",
    "    return embedding_matrix\n",
    "\n",
    "embedding_dim = 50\n",
    "embedding_matrix = create_embedding_matrix(\n",
    "    './glove.6B.50d.txt',\n",
    "    tokenizer.word_index, \n",
    "    embedding_dim)"
   ]
  },
  {
   "cell_type": "markdown",
   "metadata": {},
   "source": [
    "檢查 pretrained word embeddings 覆蓋了我們多少的資料集多少比例的詞彙。\n",
    "\n",
    "覆蓋率有 95% ，只有 5% 的字詞 pretrained word embeddings 沒有涵蓋，可接受。"
   ]
  },
  {
   "cell_type": "code",
   "execution_count": 24,
   "metadata": {},
   "outputs": [
    {
     "data": {
      "text/plain": [
       "0.9507727532913566"
      ]
     },
     "execution_count": 24,
     "metadata": {},
     "output_type": "execute_result"
    }
   ],
   "source": [
    "vocab_size = len(tokenizer.word_index) + 1  # Adding 1 because of reserved 0 index\n",
    "nonzero_elements = np.count_nonzero(np.count_nonzero(embedding_matrix, axis=1))\n",
    "nonzero_elements / vocab_size"
   ]
  },
  {
   "cell_type": "markdown",
   "metadata": {},
   "source": [
    "稍微檢查一下 word embeddings 裡面長甚麼樣：\n",
    "> `embedding_matrix` 的長度為 1747；`word_index` 的長度為 1746，這是因為 `word_index` 中 index=0 是保留索引，用來標記未在字典裡的字，故長度會少1"
   ]
  },
  {
   "cell_type": "code",
   "execution_count": 25,
   "metadata": {},
   "outputs": [
    {
     "name": "stdout",
     "output_type": "stream",
     "text": [
      "Length of embedding_matrix: (1747, 50)\n",
      "Length of word_index: 1746\n",
      "Word embeddings in 'index=0'(preserved index):\n",
      "[0. 0. 0. 0. 0. 0. 0. 0. 0. 0. 0. 0. 0. 0. 0. 0. 0. 0. 0. 0. 0. 0. 0. 0.\n",
      " 0. 0. 0. 0. 0. 0. 0. 0. 0. 0. 0. 0. 0. 0. 0. 0. 0. 0. 0. 0. 0. 0. 0. 0.\n",
      " 0. 0.]\n",
      "Word embeddings in 'index=1'('the'):\n",
      "[ 4.18000013e-01  2.49679998e-01 -4.12420005e-01  1.21699996e-01\n",
      "  3.45270008e-01 -4.44569997e-02 -4.96879995e-01 -1.78619996e-01\n",
      " -6.60229998e-04 -6.56599998e-01  2.78430015e-01 -1.47670001e-01\n",
      " -5.56770027e-01  1.46579996e-01 -9.50950012e-03  1.16579998e-02\n",
      "  1.02040000e-01 -1.27920002e-01 -8.44299972e-01 -1.21809997e-01\n",
      " -1.68009996e-02 -3.32789987e-01 -1.55200005e-01 -2.31309995e-01\n",
      " -1.91809997e-01 -1.88230002e+00 -7.67459989e-01  9.90509987e-02\n",
      " -4.21249986e-01 -1.95260003e-01  4.00710011e+00 -1.85939997e-01\n",
      " -5.22870004e-01 -3.16810012e-01  5.92130003e-04  7.44489999e-03\n",
      "  1.77780002e-01 -1.58969998e-01  1.20409997e-02 -5.42230010e-02\n",
      " -2.98709989e-01 -1.57490000e-01 -3.47579986e-01 -4.56370004e-02\n",
      " -4.42510009e-01  1.87849998e-01  2.78489990e-03 -1.84110001e-01\n",
      " -1.15139998e-01 -7.85809994e-01]\n"
     ]
    }
   ],
   "source": [
    "print(\"Length of embedding_matrix: {}\".format(embedding_matrix.shape))\n",
    "print(\"Length of word_index: {}\".format(len(tokenizer.word_index)))\n",
    "print(\"Word embeddings in 'index=0'(preserved index):\\n{}\".format(embedding_matrix[0]))\n",
    "print(\"Word embeddings in 'index=1'('the'):\\n{}\".format(embedding_matrix[1]))"
   ]
  },
  {
   "cell_type": "markdown",
   "metadata": {},
   "source": [
    "接著我們使用此 pretrained word embeddings 的參數作為我們的 embedding layer 的初始參數，並且選擇訓練 model 時***不要更新***該 embeddings parameters  (`layers.Embedding(..., trainable=False)`)。\n",
    "> `Trainable params` 只剩下521個\n",
    "\n",
    "訓練結果如後："
   ]
  },
  {
   "cell_type": "code",
   "execution_count": 26,
   "metadata": {},
   "outputs": [
    {
     "name": "stdout",
     "output_type": "stream",
     "text": [
      "_________________________________________________________________\n",
      "Layer (type)                 Output Shape              Param #   \n",
      "=================================================================\n",
      "embedding_3 (Embedding)      (None, 100, 50)           87350     \n",
      "_________________________________________________________________\n",
      "global_max_pooling1d_2 (Glob (None, 50)                0         \n",
      "_________________________________________________________________\n",
      "dense_7 (Dense)              (None, 10)                510       \n",
      "_________________________________________________________________\n",
      "dense_8 (Dense)              (None, 1)                 11        \n",
      "=================================================================\n",
      "Total params: 87,871\n",
      "Trainable params: 521\n",
      "Non-trainable params: 87,350\n",
      "_________________________________________________________________\n"
     ]
    }
   ],
   "source": [
    "model = Sequential()\n",
    "model.add(layers.Embedding(vocab_size, embedding_dim, \n",
    "                           weights=[embedding_matrix], \n",
    "                           input_length=maxlen, \n",
    "                           trainable=False))\n",
    "model.add(layers.GlobalMaxPool1D())\n",
    "model.add(layers.Dense(10, activation='relu'))\n",
    "model.add(layers.Dense(1, activation='sigmoid'))\n",
    "model.compile(optimizer='adam',\n",
    "              loss='binary_crossentropy',\n",
    "              metrics=['accuracy'])\n",
    "model.summary()"
   ]
  },
  {
   "cell_type": "code",
   "execution_count": 27,
   "metadata": {
    "scrolled": false
   },
   "outputs": [
    {
     "name": "stdout",
     "output_type": "stream",
     "text": [
      "Training Accuracy: 0.7587\n",
      "Testing Accuracy:  0.6960\n"
     ]
    },
    {
     "data": {
      "image/png": "[encoded data removed]",
      "text/plain": [
       "<Figure size 864x360 with 2 Axes>"
      ]
     },
     "metadata": {
      "needs_background": "light"
     },
     "output_type": "display_data"
    }
   ],
   "source": [
    "history = model.fit(X_train, y_train,\n",
    "                    epochs=50,\n",
    "                    verbose=False,\n",
    "                    validation_data=(X_test, y_test),\n",
    "                    batch_size=10)\n",
    "loss, accuracy = model.evaluate(X_train, y_train, verbose=False)\n",
    "print(\"Training Accuracy: {:.4f}\".format(accuracy))\n",
    "loss, accuracy = model.evaluate(X_test, y_test, verbose=False)\n",
    "print(\"Testing Accuracy:  {:.4f}\".format(accuracy))\n",
    "plot_history(history)"
   ]
  },
  {
   "cell_type": "markdown",
   "metadata": {},
   "source": [
    "結果很可怕，由於沒有讓 word embeddings 適應我們的資料集，故此結果在預期內。接下來我們試試看 `trainable=True` 會得到甚麼結果：\n",
    "> `Trainable params`變成87,871，將 embeddings 的參數考慮進來了"
   ]
  },
  {
   "cell_type": "code",
   "execution_count": 28,
   "metadata": {
    "scrolled": true
   },
   "outputs": [
    {
     "name": "stdout",
     "output_type": "stream",
     "text": [
      "_________________________________________________________________\n",
      "Layer (type)                 Output Shape              Param #   \n",
      "=================================================================\n",
      "embedding_4 (Embedding)      (None, 100, 50)           87350     \n",
      "_________________________________________________________________\n",
      "global_max_pooling1d_3 (Glob (None, 50)                0         \n",
      "_________________________________________________________________\n",
      "dense_9 (Dense)              (None, 10)                510       \n",
      "_________________________________________________________________\n",
      "dense_10 (Dense)             (None, 1)                 11        \n",
      "=================================================================\n",
      "Total params: 87,871\n",
      "Trainable params: 87,871\n",
      "Non-trainable params: 0\n",
      "_________________________________________________________________\n"
     ]
    }
   ],
   "source": [
    "model = Sequential()\n",
    "model.add(layers.Embedding(vocab_size, embedding_dim, \n",
    "                           weights=[embedding_matrix], \n",
    "                           input_length=maxlen, \n",
    "                           trainable=True))\n",
    "model.add(layers.GlobalMaxPool1D())\n",
    "model.add(layers.Dense(10, activation='relu'))\n",
    "model.add(layers.Dense(1, activation='sigmoid'))\n",
    "model.compile(optimizer='adam',\n",
    "              loss='binary_crossentropy',\n",
    "              metrics=['accuracy'])\n",
    "model.summary()"
   ]
  },
  {
   "cell_type": "code",
   "execution_count": 29,
   "metadata": {
    "scrolled": false
   },
   "outputs": [
    {
     "name": "stdout",
     "output_type": "stream",
     "text": [
      "Training Accuracy: 1.0000\n",
      "Testing Accuracy:  0.7880\n"
     ]
    },
    {
     "data": {
      "image/png": "[encoded data removed]",
      "text/plain": [
       "<Figure size 864x360 with 2 Axes>"
      ]
     },
     "metadata": {
      "needs_background": "light"
     },
     "output_type": "display_data"
    }
   ],
   "source": [
    "history = model.fit(X_train, y_train,\n",
    "                    epochs=50,\n",
    "                    verbose=False,\n",
    "                    validation_data=(X_test, y_test),\n",
    "                    batch_size=10)\n",
    "loss, accuracy = model.evaluate(X_train, y_train, verbose=False)\n",
    "print(\"Training Accuracy: {:.4f}\".format(accuracy))\n",
    "loss, accuracy = model.evaluate(X_test, y_test, verbose=False)\n",
    "print(\"Testing Accuracy:  {:.4f}\".format(accuracy))\n",
    "plot_history(history)"
   ]
  },
  {
   "cell_type": "markdown",
   "metadata": {},
   "source": [
    "比較上述兩個結果，可以看到允許 word embeddings 的更新是有幫助的，且對於巨量數據集則可以期待加快我們的訓練時間。\n",
    "\n",
    "但在目前的 case 來說似乎幫助沒這麼顯著，但這並不一定是因為 word embeddings 沒有效果的原因。\n",
    "\n",
    "後面將進入進階的神經網絡模型，來看看是否對我們這個案例有顯著的幫助。"
   ]
  },
  {
   "cell_type": "markdown",
   "metadata": {},
   "source": [
    "# Convolutional Neural Networks (CNN)\n",
    "\n",
    "卷積神經網絡，Convolutional Neural Networks (CNN)，是在影像處理領域相當成功的神經網絡，CNN通常具有多個稱作卷積層(convolutional layers)的隱藏層。\n",
    "\n",
    "圖片是一個二維的數字矩陣，故你需要一些方法來幫你處理那些被二維數字矩陣表示的圖片邊緣、角落或是特殊的紋理。\n",
    "\n",
    "而卷積層的設計目的為有效地從上述的例子中提取特徵。卷積層透過包含多組「濾鏡(filters)」、在圖片上滑動來將特定的特徵資訊透過卷積運算給抽取出來。\n",
    "\n",
    "而今天我們要拿CNN的概念來處理 sequential data，像是由文字組成的句子，而對 sequential data 我們要做的只是執行「一維卷積運算(one dimensional convolutions)」。\n",
    "> 影像處理一般來說做的則是二維卷積運算\n",
    "\n",
    "> CNN的介紹另可參考 [[資料分析&機器學習] 第5.1講: 卷積神經網絡介紹(Convolutional Neural Network)](https://medium.com/jameslearningnote/%E8%B3%87%E6%96%99%E5%88%86%E6%9E%90-%E6%A9%9F%E5%99%A8%E5%AD%B8%E7%BF%92-%E7%AC%AC5-1%E8%AC%9B-%E5%8D%B7%E7%A9%8D%E7%A5%9E%E7%B6%93%E7%B6%B2%E7%B5%A1%E4%BB%8B%E7%B4%B9-convolutional-neural-network-4f8249d65d4f)\n",
    "\n",
    "\n",
    "而處理一維資訊的示意圖可參考如下：\n",
    "\n",
    "![1D convolution](img/1D-convolution.png)\n",
    "\n",
    "Keras 提供多個 CNN layers，今天的案例我們要使用的是 `Conv1D` layer。\n",
    "而`Conv1D` layer同時提供多個可設參數，今天的案例我們只需要給予**number of filters**, **the kernel size**, and the **activation function**。"
   ]
  },
  {
   "cell_type": "code",
   "execution_count": 30,
   "metadata": {
    "scrolled": true
   },
   "outputs": [
    {
     "name": "stdout",
     "output_type": "stream",
     "text": [
      "_________________________________________________________________\n",
      "Layer (type)                 Output Shape              Param #   \n",
      "=================================================================\n",
      "embedding_5 (Embedding)      (None, 100, 100)          174700    \n",
      "_________________________________________________________________\n",
      "conv1d_1 (Conv1D)            (None, 96, 128)           64128     \n",
      "_________________________________________________________________\n",
      "global_max_pooling1d_4 (Glob (None, 128)               0         \n",
      "_________________________________________________________________\n",
      "dense_11 (Dense)             (None, 10)                1290      \n",
      "_________________________________________________________________\n",
      "dense_12 (Dense)             (None, 1)                 11        \n",
      "=================================================================\n",
      "Total params: 240,129\n",
      "Trainable params: 240,129\n",
      "Non-trainable params: 0\n",
      "_________________________________________________________________\n"
     ]
    }
   ],
   "source": [
    "embedding_dim = 100\n",
    "\n",
    "model = Sequential()\n",
    "model.add(layers.Embedding(vocab_size, embedding_dim, input_length=maxlen))\n",
    "model.add(layers.Conv1D(128, 5, activation='relu'))\n",
    "model.add(layers.GlobalMaxPooling1D())\n",
    "model.add(layers.Dense(10, activation='relu'))\n",
    "model.add(layers.Dense(1, activation='sigmoid'))\n",
    "model.compile(optimizer='adam',\n",
    "              loss='binary_crossentropy',\n",
    "              metrics=['accuracy'])\n",
    "model.summary()"
   ]
  },
  {
   "cell_type": "code",
   "execution_count": 31,
   "metadata": {
    "scrolled": false
   },
   "outputs": [
    {
     "name": "stdout",
     "output_type": "stream",
     "text": [
      "Training Accuracy: 1.0000\n",
      "Testing Accuracy:  0.8000\n"
     ]
    },
    {
     "data": {
      "image/png": "[encoded data removed]",
      "text/plain": [
       "<Figure size 864x360 with 2 Axes>"
      ]
     },
     "metadata": {
      "needs_background": "light"
     },
     "output_type": "display_data"
    }
   ],
   "source": [
    "history = model.fit(X_train, y_train,\n",
    "                    epochs=10,\n",
    "                    verbose=False,\n",
    "                    validation_data=(X_test, y_test),\n",
    "                    batch_size=10)\n",
    "loss, accuracy = model.evaluate(X_train, y_train, verbose=False)\n",
    "print(\"Training Accuracy: {:.4f}\".format(accuracy))\n",
    "loss, accuracy = model.evaluate(X_test, y_test, verbose=False)\n",
    "print(\"Testing Accuracy:  {:.4f}\".format(accuracy))\n",
    "plot_history(history)"
   ]
  },
  {
   "cell_type": "markdown",
   "metadata": {},
   "source": [
    "殘念，似乎這組資料集怎麼做，最好僅只有80%的準確率。但其實還是有許多雖然用上了CNN但準確度還是很差的原因可以探討：\n",
    "- 沒有足夠的訓練樣本\n",
    "- 缺乏調整**超參數(hyperparameters)**的過程"
   ]
  },
  {
   "cell_type": "markdown",
   "metadata": {},
   "source": [
    "# Hyperparameters Optimization\n",
    "\n",
    "所謂的**超參數**，例如上面有些直接設為定值、但其實對模型的準確率來說會有影響的變數還有：\n",
    "- number of filters；\n",
    "- kernel size；\n",
    "- hidden layer 的 neuron 數；\n",
    "- hidden layer 的 層數；\n",
    "- activation 的選擇...等等，這些都是可調整的變數。\n",
    "\n",
    "最常用的手段就是所謂的 **grid search**，相信大家都很熟悉了。\n",
    "\n",
    "另一個常用的方法則是 **random search**，很單純地將所有可能的參數做隨機組合。後面的範例將以random search為例。\n",
    "\n",
    "接著為了方便我們調整超參數，將上述創建模型的步驟用 function 包起來：\n",
    "> 原文中並未採用 pretrained word embeddings，在此示範的是每個 model 創建時會吃到 embeddings"
   ]
  },
  {
   "cell_type": "code",
   "execution_count": 32,
   "metadata": {},
   "outputs": [],
   "source": [
    "def create_model(num_filters, kernel_size, vocab_size, embedding_dim, maxlen, pre_trained_weights):\n",
    "    model = Sequential()\n",
    "    model.add(layers.Embedding(\n",
    "                vocab_size, \n",
    "                embedding_dim,\n",
    "                input_length=maxlen,\n",
    "                weights=[pre_trained_weights],\n",
    "                trainable=True\n",
    "             ))\n",
    "    model.add(layers.Conv1D(num_filters, kernel_size, activation='relu'))\n",
    "    model.add(layers.GlobalMaxPooling1D())\n",
    "    model.add(layers.Dense(10, activation='relu'))\n",
    "    model.add(layers.Dense(1, activation='sigmoid'))\n",
    "    model.compile(optimizer='adam',\n",
    "                  loss='binary_crossentropy',\n",
    "                  metrics=['accuracy'])\n",
    "    return model"
   ]
  },
  {
   "cell_type": "code",
   "execution_count": 42,
   "metadata": {
    "scrolled": false
   },
   "outputs": [
    {
     "name": "stdout",
     "output_type": "stream",
     "text": [
      "Running grid search for data set : amazon\n",
      "Running amazon data set\n",
      "Best Accuracy : 0.8379\n",
      "Best parameters:\n",
      "    {'vocab_size': 4603, 'pre_trained_weights': array([[ 0.        ,  0.        ,  0.        , ...,  0.        ,\n",
      "         0.        ,  0.        ],\n",
      "       [ 0.41800001,  0.24968   , -0.41242   , ..., -0.18411   ,\n",
      "        -0.11514   , -0.78580999],\n",
      "       [ 0.26818001,  0.14346001, -0.27877   , ..., -0.63209999,\n",
      "        -0.25027999, -0.38097   ],\n",
      "       ...,\n",
      "       [ 0.69103003, -0.31466001, -1.56620002, ...,  0.66382003,\n",
      "        -0.48172   ,  0.73137999],\n",
      "       [ 0.45596999,  0.014753  , -0.55712998, ...,  1.15279996,\n",
      "         0.42357999, -0.44042999],\n",
      "       [-0.24195001,  0.62722999,  0.30823001, ...,  0.16113999,\n",
      "        -0.20556   , -0.049197  ]]), 'num_filters': 128, 'maxlen': 100, 'kernel_size': 7, 'embedding_dim': 50}\n",
      "Test Accuracy : 0.8472\n",
      "Running grid search for data set : imdb\n",
      "Running imdb data set\n",
      "Best Accuracy : 0.8379\n",
      "Best parameters:\n",
      "    {'vocab_size': 4603, 'pre_trained_weights': array([[ 0.        ,  0.        ,  0.        , ...,  0.        ,\n",
      "         0.        ,  0.        ],\n",
      "       [ 0.41800001,  0.24968   , -0.41242   , ..., -0.18411   ,\n",
      "        -0.11514   , -0.78580999],\n",
      "       [ 0.26818001,  0.14346001, -0.27877   , ..., -0.63209999,\n",
      "        -0.25027999, -0.38097   ],\n",
      "       ...,\n",
      "       [ 0.69103003, -0.31466001, -1.56620002, ...,  0.66382003,\n",
      "        -0.48172   ,  0.73137999],\n",
      "       [ 0.45596999,  0.014753  , -0.55712998, ...,  1.15279996,\n",
      "         0.42357999, -0.44042999],\n",
      "       [-0.24195001,  0.62722999,  0.30823001, ...,  0.16113999,\n",
      "        -0.20556   , -0.049197  ]]), 'num_filters': 32, 'maxlen': 100, 'kernel_size': 3, 'embedding_dim': 50}\n",
      "Test Accuracy : 0.8311\n",
      "Running grid search for data set : yelp\n",
      "Running yelp data set\n",
      "Best Accuracy : 0.8413\n",
      "Best parameters:\n",
      "    {'vocab_size': 4603, 'pre_trained_weights': array([[ 0.        ,  0.        ,  0.        , ...,  0.        ,\n",
      "         0.        ,  0.        ],\n",
      "       [ 0.41800001,  0.24968   , -0.41242   , ..., -0.18411   ,\n",
      "        -0.11514   , -0.78580999],\n",
      "       [ 0.26818001,  0.14346001, -0.27877   , ..., -0.63209999,\n",
      "        -0.25027999, -0.38097   ],\n",
      "       ...,\n",
      "       [ 0.69103003, -0.31466001, -1.56620002, ...,  0.66382003,\n",
      "        -0.48172   ,  0.73137999],\n",
      "       [ 0.45596999,  0.014753  , -0.55712998, ...,  1.15279996,\n",
      "         0.42357999, -0.44042999],\n",
      "       [-0.24195001,  0.62722999,  0.30823001, ...,  0.16113999,\n",
      "        -0.20556   , -0.049197  ]]), 'num_filters': 128, 'maxlen': 100, 'kernel_size': 3, 'embedding_dim': 50}\n",
      "Test Accuracy : 0.8544\n",
      "Wall time: 56min 16s\n"
     ]
    }
   ],
   "source": [
    "%%time\n",
    "\n",
    "from keras.wrappers.scikit_learn import KerasClassifier\n",
    "from sklearn.model_selection import RandomizedSearchCV\n",
    "\n",
    "# Main settings\n",
    "epochs = 20\n",
    "embedding_dim = 50\n",
    "maxlen = 100\n",
    "\n",
    "# Run grid search for each source (yelp, amazon, imdb)\n",
    "for source, frame in df.groupby('source'):\n",
    "    print('Running grid search for data set :', source)\n",
    "    sentences = df['sentence'].values\n",
    "    y = df['label'].values\n",
    "\n",
    "    # Train-test split\n",
    "    sentences_train, sentences_test, y_train, y_test = train_test_split(\n",
    "        sentences, y, test_size=0.25, random_state=1000)\n",
    "\n",
    "    # Tokenize words\n",
    "    tokenizer = Tokenizer(num_words=5000)\n",
    "    tokenizer.fit_on_texts(sentences_train)\n",
    "    X_train = tokenizer.texts_to_sequences(sentences_train)\n",
    "    X_test = tokenizer.texts_to_sequences(sentences_test)\n",
    "\n",
    "    # Adding 1 because of reserved 0 index\n",
    "    vocab_size = len(tokenizer.word_index) + 1\n",
    "\n",
    "    # Pad sequences with zeros\n",
    "    X_train = pad_sequences(X_train, padding='post', maxlen=maxlen)\n",
    "    X_test = pad_sequences(X_test, padding='post', maxlen=maxlen)\n",
    "\n",
    "    embedding_matrix = create_embedding_matrix(\n",
    "        './glove.6B.50d.txt',\n",
    "        tokenizer.word_index, \n",
    "        embedding_dim)\n",
    "    \n",
    "    # Parameter grid for grid search\n",
    "    param_grid = dict(\n",
    "        num_filters=[32, 64, 128],\n",
    "        kernel_size=[3, 5, 7],\n",
    "        vocab_size=[vocab_size],\n",
    "        embedding_dim=[embedding_dim],\n",
    "        maxlen=[maxlen],\n",
    "        pre_trained_weights=[embedding_matrix]) ### pass embedding_matrix as parameters\n",
    "    \n",
    "    model = KerasClassifier(build_fn=create_model,\n",
    "                            epochs=epochs, \n",
    "                            batch_size=10,\n",
    "                            verbose=False)\n",
    "    \n",
    "    grid = RandomizedSearchCV(estimator=model, \n",
    "                              param_distributions=param_grid,\n",
    "                              cv=4, \n",
    "                              n_iter=5)\n",
    "    \n",
    "    grid_result = grid.fit(X_train, y_train)\n",
    "\n",
    "    # Evaluate testing set\n",
    "    test_accuracy = grid.score(X_test, y_test)\n",
    "    \n",
    "    # Print results to screen\n",
    "    print(\"Running {} data set\".format(source))\n",
    "    print(\"Best Accuracy : {:.4f}\".format(grid_result.best_score_))\n",
    "    print(\"Best parameters:\\n    {}\".format(grid_result.best_params_))\n",
    "    print(\"Test Accuracy : {:.4f}\".format(test_accuracy))\n",
    "\n"
   ]
  },
  {
   "cell_type": "markdown",
   "metadata": {},
   "source": [
    "與原文、未使用pretrained word embeddings結果比較：\n",
    "\n",
    "Running **amazon** data set\n",
    "\n",
    "```bash\n",
    "# with pretrained word embeddings\n",
    "Best Accuracy : 0.8379\n",
    "Best parameters:\n",
    "{'vocab_size': 4603, 'num_filters': 128, 'maxlen': 100, 'kernel_size': 7, 'embedding_dim': 50}\n",
    "Test Accuracy : 0.8472\n",
    "\n",
    "# without pretreined word embeddings\n",
    "Best Accuracy : 0.8122\n",
    "{'vocab_size': 4603, 'num_filters': 64, 'maxlen': 100, 'kernel_size': 5, 'embedding_dim': 50}\n",
    "Test Accuracy : 0.8457\n",
    "```\n",
    "\n",
    "Running **imdb** data set\n",
    "\n",
    "```bash\n",
    "# with pretrained word embeddings\n",
    "Best Accuracy : 0.8379\n",
    "Best parameters:\n",
    "{'vocab_size': 4603, 'num_filters': 32, 'maxlen': 100, 'kernel_size': 3, 'embedding_dim': 50}\n",
    "Test Accuracy : 0.8311\n",
    "\n",
    "# without pretreined word embeddings\n",
    "Best Accuracy : 0.8161\n",
    "{'vocab_size': 4603, 'num_filters': 128, 'maxlen': 100, 'kernel_size': 5, 'embedding_dim': 50}\n",
    "Test Accuracy : 0.8210\n",
    "```\n",
    "\n",
    "Running **yelp** data set\n",
    "\n",
    "```bash\n",
    "# with pretrained word embeddings\n",
    "Best Accuracy : 0.8413\n",
    "Best parameters:\n",
    "{'vocab_size': 4603, 'num_filters': 128, 'maxlen': 100, 'kernel_size': 3, 'embedding_dim': 50}\n",
    "Test Accuracy : 0.8544\n",
    "\n",
    "# without pretreined word embeddings\n",
    "Best Accuracy : 0.8127\n",
    "{'vocab_size': 4603, 'num_filters': 64, 'maxlen': 100, 'kernel_size': 7, 'embedding_dim': 50}\n",
    "Test Accuracy : 0.8384\n",
    "```\n",
    "\n"
   ]
  },
  {
   "cell_type": "markdown",
   "metadata": {},
   "source": [
    "# Conclusion\n",
    "\n",
    "本篇教學涵蓋了：\n",
    "- 運用 bag-of-words model 搭配 Logistic Regression/CNN 來處理基本的文本分類問題\n",
    "- word embeddings 的訓練步驟及如何使用 pretrained word embeddings\n",
    "- keras 如何搭配 cross-validation 進行超參數的調教"
   ]
  }
 ],
 "metadata": {
  "kernelspec": {
   "display_name": "Python 3",
   "language": "python",
   "name": "python3"
  },
  "language_info": {
   "codemirror_mode": {
    "name": "ipython",
    "version": 3
   },
   "file_extension": ".py",
   "mimetype": "text/x-python",
   "name": "python",
   "nbconvert_exporter": "python",
   "pygments_lexer": "ipython3",
   "version": "3.6.8"
  }
 },
 "nbformat": 4,
 "nbformat_minor": 2
}
